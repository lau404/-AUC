{
 "cells": [
  {
   "cell_type": "code",
   "execution_count": 43,
   "metadata": {},
   "outputs": [],
   "source": [
    "import numpy as np\n",
    "import pandas as pd\n",
    "from sklearn.preprocessing import StandardScaler\n",
    "from sklearn.linear_model import LogisticRegression\n",
    "from sklearn.svm import SVC\n",
    "from sklearn import model_selection\n",
    "import warnings\n",
    "warnings.filterwarnings(\"ignore\")"
   ]
  },
  {
   "cell_type": "markdown",
   "metadata": {},
   "source": [
    "### 1、查看数据集、数据处理"
   ]
  },
  {
   "cell_type": "code",
   "execution_count": 44,
   "metadata": {},
   "outputs": [
    {
     "name": "stdout",
     "output_type": "stream",
     "text": [
      "   0    1    2    3    4    5    6    7    8    9    ...  134  135  136  137  \\\n",
      "0  0.0  0.0  0.0  0.0  0.0  0.0  0.0  0.0  0.0  0.0  ...  0.0  0.0  0.0  0.0   \n",
      "1  0.0  1.0  0.0  0.0  0.0  0.0  0.0  0.0  0.0  0.0  ...  0.0  0.0  0.0  0.0   \n",
      "2  1.0  1.0  0.0  0.0  0.0  0.0  1.0  0.0  0.0  0.0  ...  1.0  0.0  1.0  0.0   \n",
      "3  0.0  0.0  0.0  0.0  0.0  0.0  1.0  0.0  1.0  0.0  ...  0.0  0.0  0.0  0.0   \n",
      "4  0.0  0.0  0.0  0.0  0.0  0.0  1.0  0.0  0.0  1.0  ...  0.0  0.0  0.0  0.0   \n",
      "\n",
      "   138  139  140  141  142  143  \n",
      "0  0.0  0.0  1.0  0.0  0.0  0.0  \n",
      "1  0.0  0.0  0.0  1.0  0.0  0.0  \n",
      "2  0.0  0.0  0.0  0.0  1.0  0.0  \n",
      "3  1.0  0.0  1.0  0.0  0.0  0.0  \n",
      "4  1.0  1.0  1.0  1.0  0.0  0.0  \n",
      "\n",
      "[5 rows x 144 columns]\n",
      "<class 'pandas.core.frame.DataFrame'>\n",
      "RangeIndex: 2685 entries, 0 to 2684\n",
      "Columns: 144 entries, 0 to 143\n",
      "dtypes: float64(144)\n",
      "memory usage: 2.9 MB\n",
      "None\n"
     ]
    },
    {
     "data": {
      "text/html": [
       "<div>\n",
       "<style scoped>\n",
       "    .dataframe tbody tr th:only-of-type {\n",
       "        vertical-align: middle;\n",
       "    }\n",
       "\n",
       "    .dataframe tbody tr th {\n",
       "        vertical-align: top;\n",
       "    }\n",
       "\n",
       "    .dataframe thead th {\n",
       "        text-align: right;\n",
       "    }\n",
       "</style>\n",
       "<table border=\"1\" class=\"dataframe\">\n",
       "  <thead>\n",
       "    <tr style=\"text-align: right;\">\n",
       "      <th></th>\n",
       "      <th>0</th>\n",
       "      <th>1</th>\n",
       "      <th>2</th>\n",
       "      <th>3</th>\n",
       "      <th>4</th>\n",
       "      <th>5</th>\n",
       "      <th>6</th>\n",
       "      <th>7</th>\n",
       "      <th>8</th>\n",
       "      <th>9</th>\n",
       "      <th>...</th>\n",
       "      <th>134</th>\n",
       "      <th>135</th>\n",
       "      <th>136</th>\n",
       "      <th>137</th>\n",
       "      <th>138</th>\n",
       "      <th>139</th>\n",
       "      <th>140</th>\n",
       "      <th>141</th>\n",
       "      <th>142</th>\n",
       "      <th>143</th>\n",
       "    </tr>\n",
       "  </thead>\n",
       "  <tbody>\n",
       "    <tr>\n",
       "      <th>count</th>\n",
       "      <td>2685.000000</td>\n",
       "      <td>2685.000000</td>\n",
       "      <td>2685.000000</td>\n",
       "      <td>2685.000000</td>\n",
       "      <td>2685.000000</td>\n",
       "      <td>2685.000000</td>\n",
       "      <td>2685.000000</td>\n",
       "      <td>2685.000000</td>\n",
       "      <td>2685.000000</td>\n",
       "      <td>2685.000000</td>\n",
       "      <td>...</td>\n",
       "      <td>2685.000000</td>\n",
       "      <td>2685.000000</td>\n",
       "      <td>2685.000000</td>\n",
       "      <td>2685.000000</td>\n",
       "      <td>2685.000000</td>\n",
       "      <td>2685.000000</td>\n",
       "      <td>2685.000000</td>\n",
       "      <td>2685.000000</td>\n",
       "      <td>2685.000000</td>\n",
       "      <td>2685.000000</td>\n",
       "    </tr>\n",
       "    <tr>\n",
       "      <th>mean</th>\n",
       "      <td>0.052514</td>\n",
       "      <td>0.047672</td>\n",
       "      <td>0.014525</td>\n",
       "      <td>0.033520</td>\n",
       "      <td>0.035754</td>\n",
       "      <td>0.269646</td>\n",
       "      <td>0.290130</td>\n",
       "      <td>0.008566</td>\n",
       "      <td>0.238734</td>\n",
       "      <td>0.072998</td>\n",
       "      <td>...</td>\n",
       "      <td>0.135940</td>\n",
       "      <td>0.008566</td>\n",
       "      <td>0.089013</td>\n",
       "      <td>0.292737</td>\n",
       "      <td>0.170577</td>\n",
       "      <td>0.305028</td>\n",
       "      <td>0.374674</td>\n",
       "      <td>0.458473</td>\n",
       "      <td>0.014898</td>\n",
       "      <td>0.031285</td>\n",
       "    </tr>\n",
       "    <tr>\n",
       "      <th>std</th>\n",
       "      <td>0.223103</td>\n",
       "      <td>0.213112</td>\n",
       "      <td>0.119664</td>\n",
       "      <td>0.180022</td>\n",
       "      <td>0.185711</td>\n",
       "      <td>0.443859</td>\n",
       "      <td>0.453907</td>\n",
       "      <td>0.092173</td>\n",
       "      <td>0.426389</td>\n",
       "      <td>0.260182</td>\n",
       "      <td>...</td>\n",
       "      <td>0.342789</td>\n",
       "      <td>0.092173</td>\n",
       "      <td>0.284816</td>\n",
       "      <td>0.455104</td>\n",
       "      <td>0.376209</td>\n",
       "      <td>0.460505</td>\n",
       "      <td>0.484129</td>\n",
       "      <td>0.498365</td>\n",
       "      <td>0.121166</td>\n",
       "      <td>0.174119</td>\n",
       "    </tr>\n",
       "    <tr>\n",
       "      <th>min</th>\n",
       "      <td>0.000000</td>\n",
       "      <td>0.000000</td>\n",
       "      <td>0.000000</td>\n",
       "      <td>0.000000</td>\n",
       "      <td>0.000000</td>\n",
       "      <td>0.000000</td>\n",
       "      <td>0.000000</td>\n",
       "      <td>0.000000</td>\n",
       "      <td>0.000000</td>\n",
       "      <td>0.000000</td>\n",
       "      <td>...</td>\n",
       "      <td>0.000000</td>\n",
       "      <td>0.000000</td>\n",
       "      <td>0.000000</td>\n",
       "      <td>0.000000</td>\n",
       "      <td>0.000000</td>\n",
       "      <td>0.000000</td>\n",
       "      <td>0.000000</td>\n",
       "      <td>0.000000</td>\n",
       "      <td>0.000000</td>\n",
       "      <td>0.000000</td>\n",
       "    </tr>\n",
       "    <tr>\n",
       "      <th>25%</th>\n",
       "      <td>0.000000</td>\n",
       "      <td>0.000000</td>\n",
       "      <td>0.000000</td>\n",
       "      <td>0.000000</td>\n",
       "      <td>0.000000</td>\n",
       "      <td>0.000000</td>\n",
       "      <td>0.000000</td>\n",
       "      <td>0.000000</td>\n",
       "      <td>0.000000</td>\n",
       "      <td>0.000000</td>\n",
       "      <td>...</td>\n",
       "      <td>0.000000</td>\n",
       "      <td>0.000000</td>\n",
       "      <td>0.000000</td>\n",
       "      <td>0.000000</td>\n",
       "      <td>0.000000</td>\n",
       "      <td>0.000000</td>\n",
       "      <td>0.000000</td>\n",
       "      <td>0.000000</td>\n",
       "      <td>0.000000</td>\n",
       "      <td>0.000000</td>\n",
       "    </tr>\n",
       "    <tr>\n",
       "      <th>50%</th>\n",
       "      <td>0.000000</td>\n",
       "      <td>0.000000</td>\n",
       "      <td>0.000000</td>\n",
       "      <td>0.000000</td>\n",
       "      <td>0.000000</td>\n",
       "      <td>0.000000</td>\n",
       "      <td>0.000000</td>\n",
       "      <td>0.000000</td>\n",
       "      <td>0.000000</td>\n",
       "      <td>0.000000</td>\n",
       "      <td>...</td>\n",
       "      <td>0.000000</td>\n",
       "      <td>0.000000</td>\n",
       "      <td>0.000000</td>\n",
       "      <td>0.000000</td>\n",
       "      <td>0.000000</td>\n",
       "      <td>0.000000</td>\n",
       "      <td>0.000000</td>\n",
       "      <td>0.000000</td>\n",
       "      <td>0.000000</td>\n",
       "      <td>0.000000</td>\n",
       "    </tr>\n",
       "    <tr>\n",
       "      <th>75%</th>\n",
       "      <td>0.000000</td>\n",
       "      <td>0.000000</td>\n",
       "      <td>0.000000</td>\n",
       "      <td>0.000000</td>\n",
       "      <td>0.000000</td>\n",
       "      <td>1.000000</td>\n",
       "      <td>1.000000</td>\n",
       "      <td>0.000000</td>\n",
       "      <td>0.000000</td>\n",
       "      <td>0.000000</td>\n",
       "      <td>...</td>\n",
       "      <td>0.000000</td>\n",
       "      <td>0.000000</td>\n",
       "      <td>0.000000</td>\n",
       "      <td>1.000000</td>\n",
       "      <td>0.000000</td>\n",
       "      <td>1.000000</td>\n",
       "      <td>1.000000</td>\n",
       "      <td>1.000000</td>\n",
       "      <td>0.000000</td>\n",
       "      <td>0.000000</td>\n",
       "    </tr>\n",
       "    <tr>\n",
       "      <th>max</th>\n",
       "      <td>1.000000</td>\n",
       "      <td>1.000000</td>\n",
       "      <td>1.000000</td>\n",
       "      <td>1.000000</td>\n",
       "      <td>1.000000</td>\n",
       "      <td>1.000000</td>\n",
       "      <td>1.000000</td>\n",
       "      <td>1.000000</td>\n",
       "      <td>1.000000</td>\n",
       "      <td>1.000000</td>\n",
       "      <td>...</td>\n",
       "      <td>1.000000</td>\n",
       "      <td>1.000000</td>\n",
       "      <td>1.000000</td>\n",
       "      <td>1.000000</td>\n",
       "      <td>1.000000</td>\n",
       "      <td>1.000000</td>\n",
       "      <td>1.000000</td>\n",
       "      <td>1.000000</td>\n",
       "      <td>1.000000</td>\n",
       "      <td>1.000000</td>\n",
       "    </tr>\n",
       "  </tbody>\n",
       "</table>\n",
       "<p>8 rows × 144 columns</p>\n",
       "</div>"
      ],
      "text/plain": [
       "               0            1            2            3            4    \\\n",
       "count  2685.000000  2685.000000  2685.000000  2685.000000  2685.000000   \n",
       "mean      0.052514     0.047672     0.014525     0.033520     0.035754   \n",
       "std       0.223103     0.213112     0.119664     0.180022     0.185711   \n",
       "min       0.000000     0.000000     0.000000     0.000000     0.000000   \n",
       "25%       0.000000     0.000000     0.000000     0.000000     0.000000   \n",
       "50%       0.000000     0.000000     0.000000     0.000000     0.000000   \n",
       "75%       0.000000     0.000000     0.000000     0.000000     0.000000   \n",
       "max       1.000000     1.000000     1.000000     1.000000     1.000000   \n",
       "\n",
       "               5            6            7            8            9    ...  \\\n",
       "count  2685.000000  2685.000000  2685.000000  2685.000000  2685.000000  ...   \n",
       "mean      0.269646     0.290130     0.008566     0.238734     0.072998  ...   \n",
       "std       0.443859     0.453907     0.092173     0.426389     0.260182  ...   \n",
       "min       0.000000     0.000000     0.000000     0.000000     0.000000  ...   \n",
       "25%       0.000000     0.000000     0.000000     0.000000     0.000000  ...   \n",
       "50%       0.000000     0.000000     0.000000     0.000000     0.000000  ...   \n",
       "75%       1.000000     1.000000     0.000000     0.000000     0.000000  ...   \n",
       "max       1.000000     1.000000     1.000000     1.000000     1.000000  ...   \n",
       "\n",
       "               134          135          136          137          138  \\\n",
       "count  2685.000000  2685.000000  2685.000000  2685.000000  2685.000000   \n",
       "mean      0.135940     0.008566     0.089013     0.292737     0.170577   \n",
       "std       0.342789     0.092173     0.284816     0.455104     0.376209   \n",
       "min       0.000000     0.000000     0.000000     0.000000     0.000000   \n",
       "25%       0.000000     0.000000     0.000000     0.000000     0.000000   \n",
       "50%       0.000000     0.000000     0.000000     0.000000     0.000000   \n",
       "75%       0.000000     0.000000     0.000000     1.000000     0.000000   \n",
       "max       1.000000     1.000000     1.000000     1.000000     1.000000   \n",
       "\n",
       "               139          140          141          142          143  \n",
       "count  2685.000000  2685.000000  2685.000000  2685.000000  2685.000000  \n",
       "mean      0.305028     0.374674     0.458473     0.014898     0.031285  \n",
       "std       0.460505     0.484129     0.498365     0.121166     0.174119  \n",
       "min       0.000000     0.000000     0.000000     0.000000     0.000000  \n",
       "25%       0.000000     0.000000     0.000000     0.000000     0.000000  \n",
       "50%       0.000000     0.000000     0.000000     0.000000     0.000000  \n",
       "75%       1.000000     1.000000     1.000000     0.000000     0.000000  \n",
       "max       1.000000     1.000000     1.000000     1.000000     1.000000  \n",
       "\n",
       "[8 rows x 144 columns]"
      ]
     },
     "execution_count": 44,
     "metadata": {},
     "output_type": "execute_result"
    }
   ],
   "source": [
    "df_X=pd.read_table(r\"C:\\Users\\DELL\\Desktop\\新建文件夹\\train_X.txt\",sep=' ',header=None)\n",
    "print(df_X.head())\n",
    "print(df_X.info())\n",
    "df_X.describe()"
   ]
  },
  {
   "cell_type": "markdown",
   "metadata": {},
   "source": [
    "数据集无空值，数据只包含0、1"
   ]
  },
  {
   "cell_type": "code",
   "execution_count": 45,
   "metadata": {},
   "outputs": [],
   "source": [
    "#数据标准化\n",
    "scaler=StandardScaler()\n",
    "df_X_s=scaler.fit_transform(df_X)"
   ]
  },
  {
   "cell_type": "code",
   "execution_count": 46,
   "metadata": {},
   "outputs": [
    {
     "name": "stdout",
     "output_type": "stream",
     "text": [
      "     0\n",
      "0  1.0\n",
      "1  1.0\n",
      "2  1.0\n",
      "3  1.0\n",
      "4  1.0\n",
      "                 0\n",
      "count  2685.000000\n",
      "mean      0.499814\n",
      "std       0.500093\n",
      "min       0.000000\n",
      "25%       0.000000\n",
      "50%       0.000000\n",
      "75%       1.000000\n",
      "max       1.000000\n"
     ]
    }
   ],
   "source": [
    "df_y=pd.read_table(r\"C:\\Users\\DELL\\Desktop\\新建文件夹\\train_y.txt\",sep=' ',header=None)\n",
    "print(df_y.head())\n",
    "print(df_y.describe())"
   ]
  },
  {
   "cell_type": "markdown",
   "metadata": {},
   "source": [
    "数据集正负样本数量均衡"
   ]
  },
  {
   "cell_type": "code",
   "execution_count": 47,
   "metadata": {},
   "outputs": [],
   "source": [
    "df_test_X=pd.read_table(r\"C:\\Users\\DELL\\Desktop\\新建文件夹\\test_X.txt\",sep=' ',header=None)\n",
    "df_X_t=scaler.fit_transform(df_test_X)"
   ]
  },
  {
   "cell_type": "code",
   "execution_count": 48,
   "metadata": {},
   "outputs": [],
   "source": [
    "#拆分数据\n",
    "x_train,x_t,y_train,y_t=model_selection.train_test_split(df_X_s,df_y,\n",
    "                                                               test_size=0.3,random_state=1234)"
   ]
  },
  {
   "cell_type": "markdown",
   "metadata": {},
   "source": [
    "### 2、逻辑回归"
   ]
  },
  {
   "cell_type": "markdown",
   "metadata": {},
   "source": [
    "#### 2.1 使用默认参数"
   ]
  },
  {
   "cell_type": "code",
   "execution_count": 49,
   "metadata": {},
   "outputs": [
    {
     "name": "stdout",
     "output_type": "stream",
     "text": [
      "score:0.794044665012407\n"
     ]
    }
   ],
   "source": [
    "clf=LogisticRegression()\n",
    "clf.fit(x_train,y_train)\n",
    "print(\"score:{}\".format(clf.score(x_t,y_t)))\n",
    "prob_=clf.predict_proba(x_t)\n",
    "probs=prob_[:,1]"
   ]
  },
  {
   "cell_type": "markdown",
   "metadata": {},
   "source": [
    "#### 2.2 计算AUC"
   ]
  },
  {
   "cell_type": "code",
   "execution_count": 50,
   "metadata": {},
   "outputs": [],
   "source": [
    "#统计正负样本数量（记为P、N），遍历所有正负样本组合，统计正样本预测值大于负样本的组合数量（记为number），AUC=number/(P*N)\n",
    "#当正负样本预测值相等时，number记为0.5\n",
    "#代码参考CSDN博主“weixin_43264415”\n",
    "def AUC(label, prob):\n",
    "    N = 0\n",
    "    P = 0\n",
    "    neg_prob = []\n",
    "    pos_prob = []\n",
    "    for _,i in enumerate(label):\n",
    "        if (i == 1):\n",
    "            P += 1\n",
    "            pos_prob.append(prob[_])\n",
    "        else:\n",
    "            N += 1\n",
    "            neg_prob.append(prob[_])\n",
    "    number = 0\n",
    "    for pos in pos_prob:\n",
    "        for neg in neg_prob:\n",
    "            if (pos > neg):\n",
    "                number += 1\n",
    "            elif (pos == neg):\n",
    "                number += 0.5\n",
    "    return number / (N * P)"
   ]
  },
  {
   "cell_type": "code",
   "execution_count": 51,
   "metadata": {},
   "outputs": [
    {
     "data": {
      "text/plain": [
       "0.8606447238658778"
      ]
     },
     "execution_count": 51,
     "metadata": {},
     "output_type": "execute_result"
    }
   ],
   "source": [
    "#计算使用默认参数模型的AUC\n",
    "label=np.array(y_t)\n",
    "AUC(label,probs)"
   ]
  },
  {
   "cell_type": "markdown",
   "metadata": {},
   "source": [
    "#### 2.3 调整参数最大化AUC"
   ]
  },
  {
   "cell_type": "code",
   "execution_count": 52,
   "metadata": {},
   "outputs": [],
   "source": [
    "def f(list_):\n",
    "    list_0=[]\n",
    "    for value in list_:\n",
    "        list_0.append(int(value))\n",
    "    return list_0"
   ]
  },
  {
   "cell_type": "code",
   "execution_count": 53,
   "metadata": {},
   "outputs": [],
   "source": [
    "#考虑到样本数量不大，且正负样本数量接近，因此只对正则化参数C、最大迭代次数max_iter进行优化\n",
    "max_auc=0\n",
    "for c in list(np.logspace(-3,3,10)):\n",
    "    for max_iter in f(list(np.logspace(1,3,10))):\n",
    "        clf=LogisticRegression(C=c,max_iter=max_iter)\n",
    "        clf.fit(x_train,y_train)\n",
    "        prob_=clf.predict_proba(x_t)\n",
    "        \n",
    "        probs=prob_[:,1]\n",
    "        label=np.array(y_t)\n",
    "        \n",
    "        auc=AUC(label,probs)\n",
    "        \n",
    "        if auc>max_auc:\n",
    "            max_auc=auc\n",
    "            best_para = {\"C\":c,\"max_iter\":max_iter}"
   ]
  },
  {
   "cell_type": "code",
   "execution_count": 54,
   "metadata": {},
   "outputs": [
    {
     "name": "stdout",
     "output_type": "stream",
     "text": [
      "Auc_max:0.86\n",
      "Best_parameters:{'C': 10.0, 'max_iter': 27}\n"
     ]
    },
    {
     "data": {
      "text/plain": [
       "0.7952853598014888"
      ]
     },
     "execution_count": 54,
     "metadata": {},
     "output_type": "execute_result"
    }
   ],
   "source": [
    "print('Auc_max:{:.2f}'.format(max_auc))\n",
    "print('Best_parameters:{}'.format(best_para))\n",
    "\n",
    "#看看最佳参数组合模型的评分\n",
    "clf=LogisticRegression(C=best_para[\"C\"],max_iter=best_para[\"max_iter\"])\n",
    "clf.fit(x_train,y_train)\n",
    "clf.score(x_t,y_t)"
   ]
  },
  {
   "cell_type": "markdown",
   "metadata": {},
   "source": [
    "- 逻辑回归模型经调参前后效果几乎无提高，需要尝试其它分类模型"
   ]
  },
  {
   "cell_type": "code",
   "execution_count": 55,
   "metadata": {},
   "outputs": [],
   "source": [
    "#输出预测值\n",
    "test_y=clf.predict(df_X_t)\n",
    "np.savetxt(\"C:/Users/DELL/Desktop/新建文件夹/test_y_0.txt\",test_y,delimiter=\"\\n\")"
   ]
  },
  {
   "cell_type": "markdown",
   "metadata": {},
   "source": [
    "### 3、SVM"
   ]
  },
  {
   "cell_type": "markdown",
   "metadata": {},
   "source": [
    "#### 3.1 使用默认参数"
   ]
  },
  {
   "cell_type": "code",
   "execution_count": 56,
   "metadata": {},
   "outputs": [
    {
     "name": "stdout",
     "output_type": "stream",
     "text": [
      "score:0.7952853598014888\n"
     ]
    },
    {
     "data": {
      "text/plain": [
       "0.8637019230769231"
      ]
     },
     "execution_count": 56,
     "metadata": {},
     "output_type": "execute_result"
    }
   ],
   "source": [
    "clf = SVC(probability=True)\n",
    "clf.fit(x_train,y_train)\n",
    "print(\"score:{}\".format(clf.score(x_t,y_t)))\n",
    "prob_=clf.predict_proba(x_t)\n",
    "probs=prob_[:,1]\n",
    "\n",
    "label=np.array(y_t)\n",
    "AUC(label,probs)"
   ]
  },
  {
   "cell_type": "markdown",
   "metadata": {},
   "source": [
    "#### 3.2 调整参数最大化AUC"
   ]
  },
  {
   "cell_type": "code",
   "execution_count": 57,
   "metadata": {},
   "outputs": [],
   "source": [
    "#特征与样本相比不大，考虑使用RBF核（即SVM默认核）\n",
    "max_auc=0\n",
    "for c in list(np.logspace(-3,3,10)):\n",
    "    for gamma in list(np.logspace(-3,3,10)):\n",
    "        clf=SVC(C=c,gamma=gamma,probability=True)\n",
    "        clf.fit(x_train,y_train)\n",
    "        prob_=clf.predict_proba(x_t)\n",
    "        \n",
    "        probs=prob_[:,1]\n",
    "        label=np.array(y_t)\n",
    "        \n",
    "        auc=AUC(label,probs)\n",
    "        \n",
    "        if auc>max_auc:\n",
    "            max_auc=auc\n",
    "            best_para = {\"C\":c,\"gamma\":gamma}"
   ]
  },
  {
   "cell_type": "code",
   "execution_count": 58,
   "metadata": {},
   "outputs": [
    {
     "name": "stdout",
     "output_type": "stream",
     "text": [
      "Auc_max:0.86\n",
      "Best_parameters:{'C': 0.46415888336127775, 'gamma': 0.004641588833612777}\n",
      "score:0.78287841191067\n"
     ]
    }
   ],
   "source": [
    "print('Auc_max:{:.2f}'.format(max_auc))\n",
    "print('Best_parameters:{}'.format(best_para))\n",
    "\n",
    "#看看最佳参数组合模型的评分\n",
    "clf=SVC(C=best_para[\"C\"],gamma=best_para[\"gamma\"],probability=True)\n",
    "clf.fit(x_train,y_train)\n",
    "print(\"score:{}\".format(clf.score(x_t,y_t)))"
   ]
  },
  {
   "cell_type": "markdown",
   "metadata": {},
   "source": [
    "- SVM调参前后模型AUC几乎无变化"
   ]
  },
  {
   "cell_type": "code",
   "execution_count": 59,
   "metadata": {},
   "outputs": [],
   "source": [
    "#输出预测值\n",
    "test_y=clf.predict(df_X_t)\n",
    "np.savetxt(\"C:/Users/DELL/Desktop/新建文件夹/test_y_1.txt\",test_y,delimiter=\"\\n\")"
   ]
  }
 ],
 "metadata": {
  "kernelspec": {
   "display_name": "Python 3",
   "language": "python",
   "name": "python3"
  },
  "language_info": {
   "codemirror_mode": {
    "name": "ipython",
    "version": 3
   },
   "file_extension": ".py",
   "mimetype": "text/x-python",
   "name": "python",
   "nbconvert_exporter": "python",
   "pygments_lexer": "ipython3",
   "version": "3.8.5"
  }
 },
 "nbformat": 4,
 "nbformat_minor": 4
}
